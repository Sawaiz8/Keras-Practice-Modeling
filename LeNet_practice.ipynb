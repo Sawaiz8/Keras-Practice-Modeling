{
  "nbformat": 4,
  "nbformat_minor": 0,
  "metadata": {
    "colab": {
      "provenance": [],
      "authorship_tag": "ABX9TyNzowlxWOkjvN5G4wf0fP3i",
      "include_colab_link": true
    },
    "kernelspec": {
      "name": "python3",
      "display_name": "Python 3"
    },
    "language_info": {
      "name": "python"
    }
  },
  "cells": [
    {
      "cell_type": "markdown",
      "metadata": {
        "id": "view-in-github",
        "colab_type": "text"
      },
      "source": [
        "<a href=\"https://colab.research.google.com/github/Sawaiz8/Keras-Practice-Modeling/blob/LeNet-model/LeNet_practice.ipynb\" target=\"_parent\"><img src=\"https://colab.research.google.com/assets/colab-badge.svg\" alt=\"Open In Colab\"/></a>"
      ]
    },
    {
      "cell_type": "code",
      "execution_count": null,
      "metadata": {
        "id": "hF92e571eByv"
      },
      "outputs": [],
      "source": [
        "import tensorflow as tf\n",
        "from tensorflow import keras\n",
        "from keras.layers import Conv2D, AveragePooling2D, Flatten, Dense"
      ]
    },
    {
      "cell_type": "code",
      "source": [
        "from keras import Sequential"
      ],
      "metadata": {
        "id": "B8hvx8oiepxe"
      },
      "execution_count": null,
      "outputs": []
    },
    {
      "cell_type": "code",
      "source": [
        "from keras.datasets import mnist"
      ],
      "metadata": {
        "id": "Bo4c9fSie0fw"
      },
      "execution_count": null,
      "outputs": []
    },
    {
      "cell_type": "code",
      "source": [
        "model = Sequential()\n",
        "#Each layer is considered with max pooling and conv2d layer\n",
        "model.add(Conv2D(6, activation = 'tanh', padding = 'valid',kernel_size = (5,5), input_shape = (28,28,1) ))\n",
        "model.add(AveragePooling2D(strides = 2, pool_size = (2,2), padding = 'valid'))\n",
        "\n",
        "model.add(Conv2D(16, activation = 'tanh', padding = 'valid',kernel_size = (5,5))) \n",
        "model.add(AveragePooling2D(strides = 2, pool_size = (2,2), padding = 'valid'))\n",
        "\n",
        "model.add(Flatten())"
      ],
      "metadata": {
        "id": "zpbCg8Fce5CD"
      },
      "execution_count": null,
      "outputs": []
    },
    {
      "cell_type": "code",
      "source": [
        "model.add(Dense(120, activation = 'tanh'))\n",
        "model.add(Dense(84, activation = 'tanh'))\n",
        "model.add(Dense(10, activation ='softmax' ))"
      ],
      "metadata": {
        "id": "frfrsvGggLTB"
      },
      "execution_count": null,
      "outputs": []
    },
    {
      "cell_type": "code",
      "source": [
        "model.summary()"
      ],
      "metadata": {
        "colab": {
          "base_uri": "https://localhost:8080/"
        },
        "id": "4m2ugHWog_1K",
        "outputId": "4fc1d8f5-1b68-45dc-aed0-5b8c8ac9106b"
      },
      "execution_count": null,
      "outputs": [
        {
          "output_type": "stream",
          "name": "stdout",
          "text": [
            "Model: \"sequential_18\"\n",
            "_________________________________________________________________\n",
            " Layer (type)                Output Shape              Param #   \n",
            "=================================================================\n",
            " conv2d_32 (Conv2D)          (None, 24, 24, 6)         156       \n",
            "                                                                 \n",
            " average_pooling2d_30 (Avera  (None, 12, 12, 6)        0         \n",
            " gePooling2D)                                                    \n",
            "                                                                 \n",
            " conv2d_33 (Conv2D)          (None, 8, 8, 16)          2416      \n",
            "                                                                 \n",
            " average_pooling2d_31 (Avera  (None, 4, 4, 16)         0         \n",
            " gePooling2D)                                                    \n",
            "                                                                 \n",
            " flatten_15 (Flatten)        (None, 256)               0         \n",
            "                                                                 \n",
            " dense_47 (Dense)            (None, 120)               30840     \n",
            "                                                                 \n",
            " dense_48 (Dense)            (None, 84)                10164     \n",
            "                                                                 \n",
            " dense_49 (Dense)            (None, 10)                850       \n",
            "                                                                 \n",
            "=================================================================\n",
            "Total params: 44,426\n",
            "Trainable params: 44,426\n",
            "Non-trainable params: 0\n",
            "_________________________________________________________________\n"
          ]
        }
      ]
    },
    {
      "cell_type": "code",
      "source": [
        "model.compile(optimizer = 'Adam', loss = 'categorical_crossentropy')"
      ],
      "metadata": {
        "id": "xKkL7yDvhMSY"
      },
      "execution_count": null,
      "outputs": []
    },
    {
      "cell_type": "code",
      "source": [
        "(X_train,y_train) , (X_test, y_test) = mnist.load_data()"
      ],
      "metadata": {
        "id": "D-B3nlB-naR_"
      },
      "execution_count": null,
      "outputs": []
    },
    {
      "cell_type": "code",
      "source": [
        "X_train = X_train/255\n",
        "X_test = X_test/255"
      ],
      "metadata": {
        "id": "hKVZjm-hnudt"
      },
      "execution_count": null,
      "outputs": []
    },
    {
      "cell_type": "code",
      "source": [
        "X_train = X_train.reshape((X_train.shape[0], 28, 28, 1))\n",
        "X_test = X_test.reshape((X_test.shape[0], 28, 28, 1))\n"
      ],
      "metadata": {
        "id": "bMFEV8R8nzat"
      },
      "execution_count": null,
      "outputs": []
    },
    {
      "cell_type": "code",
      "source": [
        "X_val = X_train[:5000]\n",
        "y_val = y_train[:5000]"
      ],
      "metadata": {
        "id": "aT-ZoUH6pIJ3"
      },
      "execution_count": null,
      "outputs": []
    },
    {
      "cell_type": "code",
      "source": [
        "from keras.utils import np_utils\n",
        "y_train = np_utils.to_categorical(y_train, 10)\n",
        "y_test = np_utils.to_categorical(y_test, 10)\n",
        "model.fit(X_train, y_train, epochs=20,verbose=1)\n"
      ],
      "metadata": {
        "colab": {
          "base_uri": "https://localhost:8080/"
        },
        "id": "C2y1J0xaqYLl",
        "outputId": "7fd34ba0-035f-4f6b-ac10-21d94eaaa8b8"
      },
      "execution_count": null,
      "outputs": [
        {
          "output_type": "stream",
          "name": "stdout",
          "text": [
            "Epoch 1/20\n",
            "1875/1875 [==============================] - 31s 16ms/step - loss: 0.2425\n",
            "Epoch 2/20\n",
            "1875/1875 [==============================] - 32s 17ms/step - loss: 0.0896\n",
            "Epoch 3/20\n",
            "1875/1875 [==============================] - 33s 18ms/step - loss: 0.0630\n",
            "Epoch 4/20\n",
            "1875/1875 [==============================] - 33s 18ms/step - loss: 0.0477\n",
            "Epoch 5/20\n",
            "1875/1875 [==============================] - 33s 18ms/step - loss: 0.0392\n",
            "Epoch 6/20\n",
            "1875/1875 [==============================] - 33s 18ms/step - loss: 0.0316\n",
            "Epoch 7/20\n",
            "1875/1875 [==============================] - 34s 18ms/step - loss: 0.0283\n",
            "Epoch 8/20\n",
            "1875/1875 [==============================] - 33s 17ms/step - loss: 0.0230\n",
            "Epoch 9/20\n",
            "1875/1875 [==============================] - 33s 17ms/step - loss: 0.0205\n",
            "Epoch 10/20\n",
            "1875/1875 [==============================] - 35s 18ms/step - loss: 0.0165\n",
            "Epoch 11/20\n",
            "1875/1875 [==============================] - 33s 18ms/step - loss: 0.0159\n",
            "Epoch 12/20\n",
            "1875/1875 [==============================] - 33s 18ms/step - loss: 0.0121\n",
            "Epoch 13/20\n",
            "1875/1875 [==============================] - 34s 18ms/step - loss: 0.0148\n",
            "Epoch 14/20\n",
            "1875/1875 [==============================] - 33s 18ms/step - loss: 0.0099\n",
            "Epoch 15/20\n",
            "1875/1875 [==============================] - 33s 18ms/step - loss: 0.0112\n",
            "Epoch 16/20\n",
            "1875/1875 [==============================] - 34s 18ms/step - loss: 0.0088\n",
            "Epoch 17/20\n",
            "1875/1875 [==============================] - 33s 18ms/step - loss: 0.0097\n",
            "Epoch 18/20\n",
            "1875/1875 [==============================] - 33s 18ms/step - loss: 0.0098\n",
            "Epoch 19/20\n",
            "1875/1875 [==============================] - 34s 18ms/step - loss: 0.0083\n",
            "Epoch 20/20\n",
            "1875/1875 [==============================] - 33s 17ms/step - loss: 0.0064\n"
          ]
        },
        {
          "output_type": "execute_result",
          "data": {
            "text/plain": [
              "<keras.callbacks.History at 0x7f334202df40>"
            ]
          },
          "metadata": {},
          "execution_count": 174
        }
      ]
    },
    {
      "cell_type": "code",
      "source": [
        "model.evaluate(X_test, y_test)"
      ],
      "metadata": {
        "id": "EtuNXtdjrAMO",
        "colab": {
          "base_uri": "https://localhost:8080/"
        },
        "outputId": "0f01227f-6882-4501-f2a1-e424bab5540e"
      },
      "execution_count": 175,
      "outputs": [
        {
          "output_type": "stream",
          "name": "stdout",
          "text": [
            "313/313 [==============================] - 4s 11ms/step - loss: 0.0541\n"
          ]
        },
        {
          "output_type": "execute_result",
          "data": {
            "text/plain": [
              "0.05405513942241669"
            ]
          },
          "metadata": {},
          "execution_count": 175
        }
      ]
    },
    {
      "cell_type": "code",
      "source": [],
      "metadata": {
        "id": "vmcecPKOuYWM"
      },
      "execution_count": null,
      "outputs": []
    }
  ]
}