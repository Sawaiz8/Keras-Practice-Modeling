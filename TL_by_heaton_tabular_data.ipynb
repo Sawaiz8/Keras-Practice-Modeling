{
  "nbformat": 4,
  "nbformat_minor": 0,
  "metadata": {
    "colab": {
      "provenance": [],
      "authorship_tag": "ABX9TyNsZwI8F3aPO1ISAV4A0iBv",
      "include_colab_link": true
    },
    "kernelspec": {
      "name": "python3",
      "display_name": "Python 3"
    },
    "language_info": {
      "name": "python"
    },
    "accelerator": "GPU",
    "gpuClass": "standard"
  },
  "cells": [
    {
      "cell_type": "markdown",
      "metadata": {
        "id": "view-in-github",
        "colab_type": "text"
      },
      "source": [
        "<a href=\"https://colab.research.google.com/github/Sawaiz8/Keras-Practice-Modeling/blob/main/TL_by_heaton_tabular_data.ipynb\" target=\"_parent\"><img src=\"https://colab.research.google.com/assets/colab-badge.svg\" alt=\"Open In Colab\"/></a>"
      ]
    },
    {
      "cell_type": "code",
      "execution_count": 111,
      "metadata": {
        "id": "wYNBvDxClbh3"
      },
      "outputs": [],
      "source": [
        "import pandas as pd\n",
        "import io\n",
        "import requests \n",
        "import numpy as np\n",
        "from sklearn import metrics\n",
        "from sklearn.datasets import load_iris"
      ]
    },
    {
      "cell_type": "code",
      "source": [
        "import tensorflow as tf\n",
        "from tensorflow import keras\n",
        "from keras.models import Sequential\n",
        "from keras.layers import Dense, Activation\n",
        "from keras.callbacks import EarlyStopping\n",
        "from keras import utils"
      ],
      "metadata": {
        "id": "2ObZbOx-llqC"
      },
      "execution_count": 112,
      "outputs": []
    },
    {
      "cell_type": "code",
      "source": [
        "df = load_iris()"
      ],
      "metadata": {
        "id": "cNkOlSU5mANc"
      },
      "execution_count": 113,
      "outputs": []
    },
    {
      "cell_type": "code",
      "source": [
        "df = pd.read_csv(\n",
        "    \"https://data.heatonresearch.com/data/t81-558/iris.csv\", \n",
        "    na_values=['NA', '?'])"
      ],
      "metadata": {
        "id": "VpCBmAQnmtJZ"
      },
      "execution_count": 114,
      "outputs": []
    },
    {
      "cell_type": "code",
      "source": [
        "#Shuffle the dataset\n",
        "df = df.sample(frac=1) \n",
        "df.head()"
      ],
      "metadata": {
        "colab": {
          "base_uri": "https://localhost:8080/",
          "height": 206
        },
        "id": "n2en3zeKmuRX",
        "outputId": "aa4038f1-dd2a-4750-eb76-6a191ee4a52c"
      },
      "execution_count": 115,
      "outputs": [
        {
          "output_type": "execute_result",
          "data": {
            "text/plain": [
              "     sepal_l  sepal_w  petal_l  petal_w          species\n",
              "80       5.5      2.4      3.8      1.1  Iris-versicolor\n",
              "135      7.7      3.0      6.1      2.3   Iris-virginica\n",
              "53       5.5      2.3      4.0      1.3  Iris-versicolor\n",
              "145      6.7      3.0      5.2      2.3   Iris-virginica\n",
              "87       6.3      2.3      4.4      1.3  Iris-versicolor"
            ],
            "text/html": [
              "\n",
              "  <div id=\"df-a5352c4f-0a0a-49ec-b332-d25f41728b04\">\n",
              "    <div class=\"colab-df-container\">\n",
              "      <div>\n",
              "<style scoped>\n",
              "    .dataframe tbody tr th:only-of-type {\n",
              "        vertical-align: middle;\n",
              "    }\n",
              "\n",
              "    .dataframe tbody tr th {\n",
              "        vertical-align: top;\n",
              "    }\n",
              "\n",
              "    .dataframe thead th {\n",
              "        text-align: right;\n",
              "    }\n",
              "</style>\n",
              "<table border=\"1\" class=\"dataframe\">\n",
              "  <thead>\n",
              "    <tr style=\"text-align: right;\">\n",
              "      <th></th>\n",
              "      <th>sepal_l</th>\n",
              "      <th>sepal_w</th>\n",
              "      <th>petal_l</th>\n",
              "      <th>petal_w</th>\n",
              "      <th>species</th>\n",
              "    </tr>\n",
              "  </thead>\n",
              "  <tbody>\n",
              "    <tr>\n",
              "      <th>80</th>\n",
              "      <td>5.5</td>\n",
              "      <td>2.4</td>\n",
              "      <td>3.8</td>\n",
              "      <td>1.1</td>\n",
              "      <td>Iris-versicolor</td>\n",
              "    </tr>\n",
              "    <tr>\n",
              "      <th>135</th>\n",
              "      <td>7.7</td>\n",
              "      <td>3.0</td>\n",
              "      <td>6.1</td>\n",
              "      <td>2.3</td>\n",
              "      <td>Iris-virginica</td>\n",
              "    </tr>\n",
              "    <tr>\n",
              "      <th>53</th>\n",
              "      <td>5.5</td>\n",
              "      <td>2.3</td>\n",
              "      <td>4.0</td>\n",
              "      <td>1.3</td>\n",
              "      <td>Iris-versicolor</td>\n",
              "    </tr>\n",
              "    <tr>\n",
              "      <th>145</th>\n",
              "      <td>6.7</td>\n",
              "      <td>3.0</td>\n",
              "      <td>5.2</td>\n",
              "      <td>2.3</td>\n",
              "      <td>Iris-virginica</td>\n",
              "    </tr>\n",
              "    <tr>\n",
              "      <th>87</th>\n",
              "      <td>6.3</td>\n",
              "      <td>2.3</td>\n",
              "      <td>4.4</td>\n",
              "      <td>1.3</td>\n",
              "      <td>Iris-versicolor</td>\n",
              "    </tr>\n",
              "  </tbody>\n",
              "</table>\n",
              "</div>\n",
              "      <button class=\"colab-df-convert\" onclick=\"convertToInteractive('df-a5352c4f-0a0a-49ec-b332-d25f41728b04')\"\n",
              "              title=\"Convert this dataframe to an interactive table.\"\n",
              "              style=\"display:none;\">\n",
              "        \n",
              "  <svg xmlns=\"http://www.w3.org/2000/svg\" height=\"24px\"viewBox=\"0 0 24 24\"\n",
              "       width=\"24px\">\n",
              "    <path d=\"M0 0h24v24H0V0z\" fill=\"none\"/>\n",
              "    <path d=\"M18.56 5.44l.94 2.06.94-2.06 2.06-.94-2.06-.94-.94-2.06-.94 2.06-2.06.94zm-11 1L8.5 8.5l.94-2.06 2.06-.94-2.06-.94L8.5 2.5l-.94 2.06-2.06.94zm10 10l.94 2.06.94-2.06 2.06-.94-2.06-.94-.94-2.06-.94 2.06-2.06.94z\"/><path d=\"M17.41 7.96l-1.37-1.37c-.4-.4-.92-.59-1.43-.59-.52 0-1.04.2-1.43.59L10.3 9.45l-7.72 7.72c-.78.78-.78 2.05 0 2.83L4 21.41c.39.39.9.59 1.41.59.51 0 1.02-.2 1.41-.59l7.78-7.78 2.81-2.81c.8-.78.8-2.07 0-2.86zM5.41 20L4 18.59l7.72-7.72 1.47 1.35L5.41 20z\"/>\n",
              "  </svg>\n",
              "      </button>\n",
              "      \n",
              "  <style>\n",
              "    .colab-df-container {\n",
              "      display:flex;\n",
              "      flex-wrap:wrap;\n",
              "      gap: 12px;\n",
              "    }\n",
              "\n",
              "    .colab-df-convert {\n",
              "      background-color: #E8F0FE;\n",
              "      border: none;\n",
              "      border-radius: 50%;\n",
              "      cursor: pointer;\n",
              "      display: none;\n",
              "      fill: #1967D2;\n",
              "      height: 32px;\n",
              "      padding: 0 0 0 0;\n",
              "      width: 32px;\n",
              "    }\n",
              "\n",
              "    .colab-df-convert:hover {\n",
              "      background-color: #E2EBFA;\n",
              "      box-shadow: 0px 1px 2px rgba(60, 64, 67, 0.3), 0px 1px 3px 1px rgba(60, 64, 67, 0.15);\n",
              "      fill: #174EA6;\n",
              "    }\n",
              "\n",
              "    [theme=dark] .colab-df-convert {\n",
              "      background-color: #3B4455;\n",
              "      fill: #D2E3FC;\n",
              "    }\n",
              "\n",
              "    [theme=dark] .colab-df-convert:hover {\n",
              "      background-color: #434B5C;\n",
              "      box-shadow: 0px 1px 3px 1px rgba(0, 0, 0, 0.15);\n",
              "      filter: drop-shadow(0px 1px 2px rgba(0, 0, 0, 0.3));\n",
              "      fill: #FFFFFF;\n",
              "    }\n",
              "  </style>\n",
              "\n",
              "      <script>\n",
              "        const buttonEl =\n",
              "          document.querySelector('#df-a5352c4f-0a0a-49ec-b332-d25f41728b04 button.colab-df-convert');\n",
              "        buttonEl.style.display =\n",
              "          google.colab.kernel.accessAllowed ? 'block' : 'none';\n",
              "\n",
              "        async function convertToInteractive(key) {\n",
              "          const element = document.querySelector('#df-a5352c4f-0a0a-49ec-b332-d25f41728b04');\n",
              "          const dataTable =\n",
              "            await google.colab.kernel.invokeFunction('convertToInteractive',\n",
              "                                                     [key], {});\n",
              "          if (!dataTable) return;\n",
              "\n",
              "          const docLinkHtml = 'Like what you see? Visit the ' +\n",
              "            '<a target=\"_blank\" href=https://colab.research.google.com/notebooks/data_table.ipynb>data table notebook</a>'\n",
              "            + ' to learn more about interactive tables.';\n",
              "          element.innerHTML = '';\n",
              "          dataTable['output_type'] = 'display_data';\n",
              "          await google.colab.output.renderOutput(dataTable, element);\n",
              "          const docLink = document.createElement('div');\n",
              "          docLink.innerHTML = docLinkHtml;\n",
              "          element.appendChild(docLink);\n",
              "        }\n",
              "      </script>\n",
              "    </div>\n",
              "  </div>\n",
              "  "
            ]
          },
          "metadata": {},
          "execution_count": 115
        }
      ]
    },
    {
      "cell_type": "code",
      "source": [
        "#For giving data to NN first convert it to numpy\n",
        "\n",
        "#Slice out the columns first\n",
        "columns = df.columns\n",
        "x_columns = df[columns[:len(columns)-1]] \n",
        "y_columns = df[columns[len(columns)-1]]\n",
        "\n",
        "#convert to numpy\n",
        "X_train = x_columns.values #values just gives us an numpy array for the dataframe\n",
        "Y_dummies = pd.get_dummies(y_columns)\n",
        "print(Y_dummies)\n",
        "#Dummies seperates each class and then you can use it to differenciate in an NN\n",
        "Y_train = Y_dummies.values\n"
      ],
      "metadata": {
        "colab": {
          "base_uri": "https://localhost:8080/"
        },
        "id": "INcnAXRynO-q",
        "outputId": "2a109afe-cee3-46bc-f8b4-1059a65fc874"
      },
      "execution_count": 116,
      "outputs": [
        {
          "output_type": "stream",
          "name": "stdout",
          "text": [
            "     Iris-setosa  Iris-versicolor  Iris-virginica\n",
            "80             0                1               0\n",
            "135            0                0               1\n",
            "53             0                1               0\n",
            "145            0                0               1\n",
            "87             0                1               0\n",
            "..           ...              ...             ...\n",
            "89             0                1               0\n",
            "26             1                0               0\n",
            "57             0                1               0\n",
            "122            0                0               1\n",
            "78             0                1               0\n",
            "\n",
            "[150 rows x 3 columns]\n"
          ]
        }
      ]
    },
    {
      "cell_type": "code",
      "source": [
        "#TRying to use pandas to shuffle\n",
        "df.head()"
      ],
      "metadata": {
        "id": "lCTOR8SPHSzF",
        "outputId": "3425c5e3-6cbc-4537-8554-4cdf3169d1a8",
        "colab": {
          "base_uri": "https://localhost:8080/",
          "height": 206
        }
      },
      "execution_count": 117,
      "outputs": [
        {
          "output_type": "execute_result",
          "data": {
            "text/plain": [
              "     sepal_l  sepal_w  petal_l  petal_w          species\n",
              "80       5.5      2.4      3.8      1.1  Iris-versicolor\n",
              "135      7.7      3.0      6.1      2.3   Iris-virginica\n",
              "53       5.5      2.3      4.0      1.3  Iris-versicolor\n",
              "145      6.7      3.0      5.2      2.3   Iris-virginica\n",
              "87       6.3      2.3      4.4      1.3  Iris-versicolor"
            ],
            "text/html": [
              "\n",
              "  <div id=\"df-221e904f-8312-46c6-b649-a75c3cc08a3e\">\n",
              "    <div class=\"colab-df-container\">\n",
              "      <div>\n",
              "<style scoped>\n",
              "    .dataframe tbody tr th:only-of-type {\n",
              "        vertical-align: middle;\n",
              "    }\n",
              "\n",
              "    .dataframe tbody tr th {\n",
              "        vertical-align: top;\n",
              "    }\n",
              "\n",
              "    .dataframe thead th {\n",
              "        text-align: right;\n",
              "    }\n",
              "</style>\n",
              "<table border=\"1\" class=\"dataframe\">\n",
              "  <thead>\n",
              "    <tr style=\"text-align: right;\">\n",
              "      <th></th>\n",
              "      <th>sepal_l</th>\n",
              "      <th>sepal_w</th>\n",
              "      <th>petal_l</th>\n",
              "      <th>petal_w</th>\n",
              "      <th>species</th>\n",
              "    </tr>\n",
              "  </thead>\n",
              "  <tbody>\n",
              "    <tr>\n",
              "      <th>80</th>\n",
              "      <td>5.5</td>\n",
              "      <td>2.4</td>\n",
              "      <td>3.8</td>\n",
              "      <td>1.1</td>\n",
              "      <td>Iris-versicolor</td>\n",
              "    </tr>\n",
              "    <tr>\n",
              "      <th>135</th>\n",
              "      <td>7.7</td>\n",
              "      <td>3.0</td>\n",
              "      <td>6.1</td>\n",
              "      <td>2.3</td>\n",
              "      <td>Iris-virginica</td>\n",
              "    </tr>\n",
              "    <tr>\n",
              "      <th>53</th>\n",
              "      <td>5.5</td>\n",
              "      <td>2.3</td>\n",
              "      <td>4.0</td>\n",
              "      <td>1.3</td>\n",
              "      <td>Iris-versicolor</td>\n",
              "    </tr>\n",
              "    <tr>\n",
              "      <th>145</th>\n",
              "      <td>6.7</td>\n",
              "      <td>3.0</td>\n",
              "      <td>5.2</td>\n",
              "      <td>2.3</td>\n",
              "      <td>Iris-virginica</td>\n",
              "    </tr>\n",
              "    <tr>\n",
              "      <th>87</th>\n",
              "      <td>6.3</td>\n",
              "      <td>2.3</td>\n",
              "      <td>4.4</td>\n",
              "      <td>1.3</td>\n",
              "      <td>Iris-versicolor</td>\n",
              "    </tr>\n",
              "  </tbody>\n",
              "</table>\n",
              "</div>\n",
              "      <button class=\"colab-df-convert\" onclick=\"convertToInteractive('df-221e904f-8312-46c6-b649-a75c3cc08a3e')\"\n",
              "              title=\"Convert this dataframe to an interactive table.\"\n",
              "              style=\"display:none;\">\n",
              "        \n",
              "  <svg xmlns=\"http://www.w3.org/2000/svg\" height=\"24px\"viewBox=\"0 0 24 24\"\n",
              "       width=\"24px\">\n",
              "    <path d=\"M0 0h24v24H0V0z\" fill=\"none\"/>\n",
              "    <path d=\"M18.56 5.44l.94 2.06.94-2.06 2.06-.94-2.06-.94-.94-2.06-.94 2.06-2.06.94zm-11 1L8.5 8.5l.94-2.06 2.06-.94-2.06-.94L8.5 2.5l-.94 2.06-2.06.94zm10 10l.94 2.06.94-2.06 2.06-.94-2.06-.94-.94-2.06-.94 2.06-2.06.94z\"/><path d=\"M17.41 7.96l-1.37-1.37c-.4-.4-.92-.59-1.43-.59-.52 0-1.04.2-1.43.59L10.3 9.45l-7.72 7.72c-.78.78-.78 2.05 0 2.83L4 21.41c.39.39.9.59 1.41.59.51 0 1.02-.2 1.41-.59l7.78-7.78 2.81-2.81c.8-.78.8-2.07 0-2.86zM5.41 20L4 18.59l7.72-7.72 1.47 1.35L5.41 20z\"/>\n",
              "  </svg>\n",
              "      </button>\n",
              "      \n",
              "  <style>\n",
              "    .colab-df-container {\n",
              "      display:flex;\n",
              "      flex-wrap:wrap;\n",
              "      gap: 12px;\n",
              "    }\n",
              "\n",
              "    .colab-df-convert {\n",
              "      background-color: #E8F0FE;\n",
              "      border: none;\n",
              "      border-radius: 50%;\n",
              "      cursor: pointer;\n",
              "      display: none;\n",
              "      fill: #1967D2;\n",
              "      height: 32px;\n",
              "      padding: 0 0 0 0;\n",
              "      width: 32px;\n",
              "    }\n",
              "\n",
              "    .colab-df-convert:hover {\n",
              "      background-color: #E2EBFA;\n",
              "      box-shadow: 0px 1px 2px rgba(60, 64, 67, 0.3), 0px 1px 3px 1px rgba(60, 64, 67, 0.15);\n",
              "      fill: #174EA6;\n",
              "    }\n",
              "\n",
              "    [theme=dark] .colab-df-convert {\n",
              "      background-color: #3B4455;\n",
              "      fill: #D2E3FC;\n",
              "    }\n",
              "\n",
              "    [theme=dark] .colab-df-convert:hover {\n",
              "      background-color: #434B5C;\n",
              "      box-shadow: 0px 1px 3px 1px rgba(0, 0, 0, 0.15);\n",
              "      filter: drop-shadow(0px 1px 2px rgba(0, 0, 0, 0.3));\n",
              "      fill: #FFFFFF;\n",
              "    }\n",
              "  </style>\n",
              "\n",
              "      <script>\n",
              "        const buttonEl =\n",
              "          document.querySelector('#df-221e904f-8312-46c6-b649-a75c3cc08a3e button.colab-df-convert');\n",
              "        buttonEl.style.display =\n",
              "          google.colab.kernel.accessAllowed ? 'block' : 'none';\n",
              "\n",
              "        async function convertToInteractive(key) {\n",
              "          const element = document.querySelector('#df-221e904f-8312-46c6-b649-a75c3cc08a3e');\n",
              "          const dataTable =\n",
              "            await google.colab.kernel.invokeFunction('convertToInteractive',\n",
              "                                                     [key], {});\n",
              "          if (!dataTable) return;\n",
              "\n",
              "          const docLinkHtml = 'Like what you see? Visit the ' +\n",
              "            '<a target=\"_blank\" href=https://colab.research.google.com/notebooks/data_table.ipynb>data table notebook</a>'\n",
              "            + ' to learn more about interactive tables.';\n",
              "          element.innerHTML = '';\n",
              "          dataTable['output_type'] = 'display_data';\n",
              "          await google.colab.output.renderOutput(dataTable, element);\n",
              "          const docLink = document.createElement('div');\n",
              "          docLink.innerHTML = docLinkHtml;\n",
              "          element.appendChild(docLink);\n",
              "        }\n",
              "      </script>\n",
              "    </div>\n",
              "  </div>\n",
              "  "
            ]
          },
          "metadata": {},
          "execution_count": 117
        }
      ]
    },
    {
      "cell_type": "code",
      "source": [
        "model = Sequential()\n",
        "model.add(Dense(128, input_dim = x.shape[1], activation = 'relu')) #Input dim of 1 example\n",
        "model.add(Dense(64, activation = 'relu'))\n"
      ],
      "metadata": {
        "id": "wlaLRGPUqYzt"
      },
      "execution_count": 136,
      "outputs": []
    },
    {
      "cell_type": "code",
      "source": [
        "model.add(Dense(28, activation = 'relu'))\n",
        "model.add(Dense(3, activation = 'softmax'))\n"
      ],
      "metadata": {
        "id": "f1c5UWSSruRB"
      },
      "execution_count": 137,
      "outputs": []
    },
    {
      "cell_type": "code",
      "source": [
        "model.compile(loss='categorical_crossentropy', optimizer='adam', metrics = ['accuracy'])\n",
        "history = model.fit(X_train,Y_train,verbose=2,epochs=100)"
      ],
      "metadata": {
        "id": "l9hLMFqGAtgr",
        "outputId": "24897886-8fe5-4ff6-c0f1-687cf7da21c6",
        "colab": {
          "base_uri": "https://localhost:8080/"
        }
      },
      "execution_count": 138,
      "outputs": [
        {
          "output_type": "stream",
          "name": "stdout",
          "text": [
            "Epoch 1/100\n",
            "5/5 - 1s - loss: 1.1110 - accuracy: 0.4133 - 704ms/epoch - 141ms/step\n",
            "Epoch 2/100\n",
            "5/5 - 0s - loss: 0.9568 - accuracy: 0.5867 - 16ms/epoch - 3ms/step\n",
            "Epoch 3/100\n",
            "5/5 - 0s - loss: 0.8639 - accuracy: 0.7467 - 16ms/epoch - 3ms/step\n",
            "Epoch 4/100\n",
            "5/5 - 0s - loss: 0.7676 - accuracy: 0.7867 - 17ms/epoch - 3ms/step\n",
            "Epoch 5/100\n",
            "5/5 - 0s - loss: 0.6979 - accuracy: 0.8000 - 21ms/epoch - 4ms/step\n",
            "Epoch 6/100\n",
            "5/5 - 0s - loss: 0.6301 - accuracy: 0.8867 - 16ms/epoch - 3ms/step\n",
            "Epoch 7/100\n",
            "5/5 - 0s - loss: 0.5671 - accuracy: 0.8800 - 16ms/epoch - 3ms/step\n",
            "Epoch 8/100\n",
            "5/5 - 0s - loss: 0.5099 - accuracy: 0.9067 - 16ms/epoch - 3ms/step\n",
            "Epoch 9/100\n",
            "5/5 - 0s - loss: 0.4584 - accuracy: 0.9333 - 15ms/epoch - 3ms/step\n",
            "Epoch 10/100\n",
            "5/5 - 0s - loss: 0.4138 - accuracy: 0.9533 - 15ms/epoch - 3ms/step\n",
            "Epoch 11/100\n",
            "5/5 - 0s - loss: 0.3758 - accuracy: 0.9667 - 16ms/epoch - 3ms/step\n",
            "Epoch 12/100\n",
            "5/5 - 0s - loss: 0.3416 - accuracy: 0.9600 - 15ms/epoch - 3ms/step\n",
            "Epoch 13/100\n",
            "5/5 - 0s - loss: 0.3099 - accuracy: 0.9600 - 15ms/epoch - 3ms/step\n",
            "Epoch 14/100\n",
            "5/5 - 0s - loss: 0.2920 - accuracy: 0.9733 - 15ms/epoch - 3ms/step\n",
            "Epoch 15/100\n",
            "5/5 - 0s - loss: 0.2652 - accuracy: 0.9667 - 15ms/epoch - 3ms/step\n",
            "Epoch 16/100\n",
            "5/5 - 0s - loss: 0.2445 - accuracy: 0.9733 - 20ms/epoch - 4ms/step\n",
            "Epoch 17/100\n",
            "5/5 - 0s - loss: 0.2269 - accuracy: 0.9667 - 15ms/epoch - 3ms/step\n",
            "Epoch 18/100\n",
            "5/5 - 0s - loss: 0.2104 - accuracy: 0.9800 - 16ms/epoch - 3ms/step\n",
            "Epoch 19/100\n",
            "5/5 - 0s - loss: 0.1973 - accuracy: 0.9667 - 17ms/epoch - 3ms/step\n",
            "Epoch 20/100\n",
            "5/5 - 0s - loss: 0.1846 - accuracy: 0.9733 - 15ms/epoch - 3ms/step\n",
            "Epoch 21/100\n",
            "5/5 - 0s - loss: 0.1727 - accuracy: 0.9800 - 15ms/epoch - 3ms/step\n",
            "Epoch 22/100\n",
            "5/5 - 0s - loss: 0.1603 - accuracy: 0.9733 - 15ms/epoch - 3ms/step\n",
            "Epoch 23/100\n",
            "5/5 - 0s - loss: 0.1506 - accuracy: 0.9867 - 17ms/epoch - 3ms/step\n",
            "Epoch 24/100\n",
            "5/5 - 0s - loss: 0.1449 - accuracy: 0.9733 - 15ms/epoch - 3ms/step\n",
            "Epoch 25/100\n",
            "5/5 - 0s - loss: 0.1462 - accuracy: 0.9533 - 15ms/epoch - 3ms/step\n",
            "Epoch 26/100\n",
            "5/5 - 0s - loss: 0.1285 - accuracy: 0.9733 - 16ms/epoch - 3ms/step\n",
            "Epoch 27/100\n",
            "5/5 - 0s - loss: 0.1356 - accuracy: 0.9600 - 15ms/epoch - 3ms/step\n",
            "Epoch 28/100\n",
            "5/5 - 0s - loss: 0.1250 - accuracy: 0.9667 - 19ms/epoch - 4ms/step\n",
            "Epoch 29/100\n",
            "5/5 - 0s - loss: 0.1144 - accuracy: 0.9800 - 15ms/epoch - 3ms/step\n",
            "Epoch 30/100\n",
            "5/5 - 0s - loss: 0.1094 - accuracy: 0.9800 - 15ms/epoch - 3ms/step\n",
            "Epoch 31/100\n",
            "5/5 - 0s - loss: 0.1113 - accuracy: 0.9733 - 15ms/epoch - 3ms/step\n",
            "Epoch 32/100\n",
            "5/5 - 0s - loss: 0.1070 - accuracy: 0.9733 - 15ms/epoch - 3ms/step\n",
            "Epoch 33/100\n",
            "5/5 - 0s - loss: 0.1130 - accuracy: 0.9467 - 26ms/epoch - 5ms/step\n",
            "Epoch 34/100\n",
            "5/5 - 0s - loss: 0.1078 - accuracy: 0.9667 - 16ms/epoch - 3ms/step\n",
            "Epoch 35/100\n",
            "5/5 - 0s - loss: 0.1024 - accuracy: 0.9600 - 16ms/epoch - 3ms/step\n",
            "Epoch 36/100\n",
            "5/5 - 0s - loss: 0.1056 - accuracy: 0.9667 - 15ms/epoch - 3ms/step\n",
            "Epoch 37/100\n",
            "5/5 - 0s - loss: 0.1038 - accuracy: 0.9667 - 16ms/epoch - 3ms/step\n",
            "Epoch 38/100\n",
            "5/5 - 0s - loss: 0.1180 - accuracy: 0.9467 - 16ms/epoch - 3ms/step\n",
            "Epoch 39/100\n",
            "5/5 - 0s - loss: 0.0868 - accuracy: 0.9800 - 16ms/epoch - 3ms/step\n",
            "Epoch 40/100\n",
            "5/5 - 0s - loss: 0.1107 - accuracy: 0.9533 - 15ms/epoch - 3ms/step\n",
            "Epoch 41/100\n",
            "5/5 - 0s - loss: 0.0810 - accuracy: 0.9800 - 16ms/epoch - 3ms/step\n",
            "Epoch 42/100\n",
            "5/5 - 0s - loss: 0.0961 - accuracy: 0.9667 - 15ms/epoch - 3ms/step\n",
            "Epoch 43/100\n",
            "5/5 - 0s - loss: 0.0917 - accuracy: 0.9667 - 17ms/epoch - 3ms/step\n",
            "Epoch 44/100\n",
            "5/5 - 0s - loss: 0.1000 - accuracy: 0.9600 - 17ms/epoch - 3ms/step\n",
            "Epoch 45/100\n",
            "5/5 - 0s - loss: 0.0902 - accuracy: 0.9667 - 17ms/epoch - 3ms/step\n",
            "Epoch 46/100\n",
            "5/5 - 0s - loss: 0.0773 - accuracy: 0.9800 - 17ms/epoch - 3ms/step\n",
            "Epoch 47/100\n",
            "5/5 - 0s - loss: 0.0832 - accuracy: 0.9667 - 16ms/epoch - 3ms/step\n",
            "Epoch 48/100\n",
            "5/5 - 0s - loss: 0.0819 - accuracy: 0.9800 - 16ms/epoch - 3ms/step\n",
            "Epoch 49/100\n",
            "5/5 - 0s - loss: 0.0731 - accuracy: 0.9800 - 30ms/epoch - 6ms/step\n",
            "Epoch 50/100\n",
            "5/5 - 0s - loss: 0.0897 - accuracy: 0.9667 - 15ms/epoch - 3ms/step\n",
            "Epoch 51/100\n",
            "5/5 - 0s - loss: 0.0848 - accuracy: 0.9733 - 18ms/epoch - 4ms/step\n",
            "Epoch 52/100\n",
            "5/5 - 0s - loss: 0.0716 - accuracy: 0.9800 - 16ms/epoch - 3ms/step\n",
            "Epoch 53/100\n",
            "5/5 - 0s - loss: 0.0763 - accuracy: 0.9800 - 15ms/epoch - 3ms/step\n",
            "Epoch 54/100\n",
            "5/5 - 0s - loss: 0.0760 - accuracy: 0.9800 - 15ms/epoch - 3ms/step\n",
            "Epoch 55/100\n",
            "5/5 - 0s - loss: 0.0742 - accuracy: 0.9800 - 15ms/epoch - 3ms/step\n",
            "Epoch 56/100\n",
            "5/5 - 0s - loss: 0.0718 - accuracy: 0.9800 - 16ms/epoch - 3ms/step\n",
            "Epoch 57/100\n",
            "5/5 - 0s - loss: 0.0725 - accuracy: 0.9800 - 16ms/epoch - 3ms/step\n",
            "Epoch 58/100\n",
            "5/5 - 0s - loss: 0.0732 - accuracy: 0.9800 - 16ms/epoch - 3ms/step\n",
            "Epoch 59/100\n",
            "5/5 - 0s - loss: 0.0726 - accuracy: 0.9800 - 15ms/epoch - 3ms/step\n",
            "Epoch 60/100\n",
            "5/5 - 0s - loss: 0.0684 - accuracy: 0.9867 - 16ms/epoch - 3ms/step\n",
            "Epoch 61/100\n",
            "5/5 - 0s - loss: 0.0755 - accuracy: 0.9800 - 17ms/epoch - 3ms/step\n",
            "Epoch 62/100\n",
            "5/5 - 0s - loss: 0.0746 - accuracy: 0.9667 - 17ms/epoch - 3ms/step\n",
            "Epoch 63/100\n",
            "5/5 - 0s - loss: 0.0740 - accuracy: 0.9800 - 16ms/epoch - 3ms/step\n",
            "Epoch 64/100\n",
            "5/5 - 0s - loss: 0.0787 - accuracy: 0.9733 - 16ms/epoch - 3ms/step\n",
            "Epoch 65/100\n",
            "5/5 - 0s - loss: 0.0641 - accuracy: 0.9733 - 15ms/epoch - 3ms/step\n",
            "Epoch 66/100\n",
            "5/5 - 0s - loss: 0.0762 - accuracy: 0.9800 - 23ms/epoch - 5ms/step\n",
            "Epoch 67/100\n",
            "5/5 - 0s - loss: 0.0672 - accuracy: 0.9800 - 15ms/epoch - 3ms/step\n",
            "Epoch 68/100\n",
            "5/5 - 0s - loss: 0.0653 - accuracy: 0.9800 - 17ms/epoch - 3ms/step\n",
            "Epoch 69/100\n",
            "5/5 - 0s - loss: 0.0728 - accuracy: 0.9733 - 16ms/epoch - 3ms/step\n",
            "Epoch 70/100\n",
            "5/5 - 0s - loss: 0.1140 - accuracy: 0.9533 - 16ms/epoch - 3ms/step\n",
            "Epoch 71/100\n",
            "5/5 - 0s - loss: 0.1244 - accuracy: 0.9400 - 16ms/epoch - 3ms/step\n",
            "Epoch 72/100\n",
            "5/5 - 0s - loss: 0.0681 - accuracy: 0.9800 - 16ms/epoch - 3ms/step\n",
            "Epoch 73/100\n",
            "5/5 - 0s - loss: 0.0773 - accuracy: 0.9667 - 16ms/epoch - 3ms/step\n",
            "Epoch 74/100\n",
            "5/5 - 0s - loss: 0.1039 - accuracy: 0.9467 - 16ms/epoch - 3ms/step\n",
            "Epoch 75/100\n",
            "5/5 - 0s - loss: 0.1200 - accuracy: 0.9533 - 16ms/epoch - 3ms/step\n",
            "Epoch 76/100\n",
            "5/5 - 0s - loss: 0.0871 - accuracy: 0.9733 - 17ms/epoch - 3ms/step\n",
            "Epoch 77/100\n",
            "5/5 - 0s - loss: 0.0732 - accuracy: 0.9533 - 15ms/epoch - 3ms/step\n",
            "Epoch 78/100\n",
            "5/5 - 0s - loss: 0.0892 - accuracy: 0.9733 - 16ms/epoch - 3ms/step\n",
            "Epoch 79/100\n",
            "5/5 - 0s - loss: 0.0730 - accuracy: 0.9667 - 18ms/epoch - 4ms/step\n",
            "Epoch 80/100\n",
            "5/5 - 0s - loss: 0.0797 - accuracy: 0.9667 - 17ms/epoch - 3ms/step\n",
            "Epoch 81/100\n",
            "5/5 - 0s - loss: 0.0748 - accuracy: 0.9733 - 21ms/epoch - 4ms/step\n",
            "Epoch 82/100\n",
            "5/5 - 0s - loss: 0.0716 - accuracy: 0.9867 - 16ms/epoch - 3ms/step\n",
            "Epoch 83/100\n",
            "5/5 - 0s - loss: 0.0648 - accuracy: 0.9733 - 16ms/epoch - 3ms/step\n",
            "Epoch 84/100\n",
            "5/5 - 0s - loss: 0.0667 - accuracy: 0.9800 - 17ms/epoch - 3ms/step\n",
            "Epoch 85/100\n",
            "5/5 - 0s - loss: 0.0654 - accuracy: 0.9800 - 19ms/epoch - 4ms/step\n",
            "Epoch 86/100\n",
            "5/5 - 0s - loss: 0.0654 - accuracy: 0.9733 - 16ms/epoch - 3ms/step\n",
            "Epoch 87/100\n",
            "5/5 - 0s - loss: 0.0611 - accuracy: 0.9800 - 18ms/epoch - 4ms/step\n",
            "Epoch 88/100\n",
            "5/5 - 0s - loss: 0.0654 - accuracy: 0.9800 - 16ms/epoch - 3ms/step\n",
            "Epoch 89/100\n",
            "5/5 - 0s - loss: 0.0614 - accuracy: 0.9800 - 17ms/epoch - 3ms/step\n",
            "Epoch 90/100\n",
            "5/5 - 0s - loss: 0.0620 - accuracy: 0.9800 - 19ms/epoch - 4ms/step\n",
            "Epoch 91/100\n",
            "5/5 - 0s - loss: 0.0637 - accuracy: 0.9733 - 16ms/epoch - 3ms/step\n",
            "Epoch 92/100\n",
            "5/5 - 0s - loss: 0.0615 - accuracy: 0.9800 - 16ms/epoch - 3ms/step\n",
            "Epoch 93/100\n",
            "5/5 - 0s - loss: 0.0632 - accuracy: 0.9800 - 16ms/epoch - 3ms/step\n",
            "Epoch 94/100\n",
            "5/5 - 0s - loss: 0.0660 - accuracy: 0.9800 - 16ms/epoch - 3ms/step\n",
            "Epoch 95/100\n",
            "5/5 - 0s - loss: 0.0681 - accuracy: 0.9667 - 17ms/epoch - 3ms/step\n",
            "Epoch 96/100\n",
            "5/5 - 0s - loss: 0.0721 - accuracy: 0.9667 - 17ms/epoch - 3ms/step\n",
            "Epoch 97/100\n",
            "5/5 - 0s - loss: 0.0641 - accuracy: 0.9800 - 16ms/epoch - 3ms/step\n",
            "Epoch 98/100\n",
            "5/5 - 0s - loss: 0.0639 - accuracy: 0.9733 - 16ms/epoch - 3ms/step\n",
            "Epoch 99/100\n",
            "5/5 - 0s - loss: 0.0630 - accuracy: 0.9867 - 16ms/epoch - 3ms/step\n",
            "Epoch 100/100\n",
            "5/5 - 0s - loss: 0.0622 - accuracy: 0.9800 - 15ms/epoch - 3ms/step\n"
          ]
        }
      ]
    },
    {
      "cell_type": "code",
      "source": [
        "df_cost = pd.read_csv(\n",
        "    \"https://data.heatonresearch.com/data/t81-558/iris_cost.csv\", \n",
        "    na_values=['NA', '?'])\n"
      ],
      "metadata": {
        "id": "NhYvWCMUBJCf"
      },
      "execution_count": 144,
      "outputs": []
    },
    {
      "cell_type": "code",
      "source": [
        "#For giving data to NN first convert it to numpy\n",
        "\n",
        "#Slice out the columns first\n",
        "columns = df.columns\n",
        "x_columns = df[columns[:len(columns)-1]] \n",
        "y_columns = df[columns[len(columns)-1]]\n",
        "\n",
        "#convert to numpy\n",
        "X_test = x_columns.values #values just gives us an numpy array for the dataframe\n",
        "Y_dummies = pd.get_dummies(y_columns)\n",
        "#Dummies seperates each class and then you can use it to differenciate in an NN\n",
        "Y_test = Y_dummies.values\n"
      ],
      "metadata": {
        "id": "nk4BJnGnCHfG"
      },
      "execution_count": 145,
      "outputs": []
    },
    {
      "cell_type": "code",
      "source": [
        "from sklearn.metrics import accuracy_score\n",
        "pred = model.predict(X_test)\n",
        "score = np.sqrt(metrics.mean_squared_error(pred,Y_test))\n",
        "print(f\"Final score (RMSE): {score}\")"
      ],
      "metadata": {
        "id": "UiLRJra5Na2j",
        "outputId": "3bd9c7c0-ad72-4e65-d848-5c3d0a8fc890",
        "colab": {
          "base_uri": "https://localhost:8080/"
        }
      },
      "execution_count": 149,
      "outputs": [
        {
          "output_type": "stream",
          "name": "stdout",
          "text": [
            "5/5 [==============================] - 0s 4ms/step\n",
            "Final score (RMSE): 0.10457538068294525\n"
          ]
        }
      ]
    },
    {
      "cell_type": "code",
      "source": [
        "#Now transfer learning\n",
        "model2 = Sequential()\n",
        "for layer in model.layers:\n",
        "  model2.add(layer)\n",
        "model2.summary()"
      ],
      "metadata": {
        "id": "x6p0IyCMNjcM",
        "outputId": "c0c66469-c364-4f51-a8ef-016a2332e01c",
        "colab": {
          "base_uri": "https://localhost:8080/"
        }
      },
      "execution_count": 151,
      "outputs": [
        {
          "output_type": "stream",
          "name": "stdout",
          "text": [
            "Model: \"sequential_20\"\n",
            "_________________________________________________________________\n",
            " Layer (type)                Output Shape              Param #   \n",
            "=================================================================\n",
            " dense_87 (Dense)            (None, 128)               640       \n",
            "                                                                 \n",
            " dense_88 (Dense)            (None, 64)                8256      \n",
            "                                                                 \n",
            " dense_89 (Dense)            (None, 28)                1820      \n",
            "                                                                 \n",
            " dense_90 (Dense)            (None, 3)                 87        \n",
            "                                                                 \n",
            "=================================================================\n",
            "Total params: 10,803\n",
            "Trainable params: 10,803\n",
            "Non-trainable params: 0\n",
            "_________________________________________________________________\n"
          ]
        }
      ]
    },
    {
      "cell_type": "code",
      "source": [
        "#Same error rate as before\n",
        "from sklearn.metrics import accuracy_score\n",
        "pred = model2.predict(X_test)\n",
        "score = np.sqrt(metrics.mean_squared_error(pred,Y_test))\n",
        "print(f\"Final score (RMSE): {score}\")"
      ],
      "metadata": {
        "id": "2uchnHZgUhmC",
        "outputId": "85b2324b-eb41-48bf-ca84-9927774ddd67",
        "colab": {
          "base_uri": "https://localhost:8080/"
        }
      },
      "execution_count": 153,
      "outputs": [
        {
          "output_type": "stream",
          "name": "stdout",
          "text": [
            "5/5 [==============================] - 0s 2ms/step\n",
            "Final score (RMSE): 0.10457538068294525\n"
          ]
        }
      ]
    },
    {
      "cell_type": "code",
      "source": [
        "#TL with certain layers in the model\n",
        "model3 = Sequential()\n",
        "for i in range(2):\n",
        "  layer = model2.layers[i]\n",
        "  layer.trainable = False\n",
        "  model3.add(layer)\n",
        "model3.summary()\n",
        "#Now parameters are reduced and one set of weight are discarded"
      ],
      "metadata": {
        "id": "LEv_dV_dUxJI",
        "outputId": "8b92f0a1-af69-4540-bee1-83f50bbff7c8",
        "colab": {
          "base_uri": "https://localhost:8080/"
        }
      },
      "execution_count": 155,
      "outputs": [
        {
          "output_type": "stream",
          "name": "stdout",
          "text": [
            "Model: \"sequential_22\"\n",
            "_________________________________________________________________\n",
            " Layer (type)                Output Shape              Param #   \n",
            "=================================================================\n",
            " dense_87 (Dense)            (None, 128)               640       \n",
            "                                                                 \n",
            " dense_88 (Dense)            (None, 64)                8256      \n",
            "                                                                 \n",
            "=================================================================\n",
            "Total params: 8,896\n",
            "Trainable params: 0\n",
            "Non-trainable params: 8,896\n",
            "_________________________________________________________________\n"
          ]
        }
      ]
    },
    {
      "cell_type": "code",
      "source": [],
      "metadata": {
        "id": "zb71ruT9VkIn"
      },
      "execution_count": null,
      "outputs": []
    }
  ]
}